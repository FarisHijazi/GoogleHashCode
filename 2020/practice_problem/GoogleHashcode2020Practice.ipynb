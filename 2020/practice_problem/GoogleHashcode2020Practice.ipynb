{
  "nbformat": 4,
  "nbformat_minor": 0,
  "metadata": {
    "language_info": {
      "name": "python",
      "codemirror_mode": {
        "name": "ipython",
        "version": 3
      },
      "version": "3.7.4-final"
    },
    "orig_nbformat": 2,
    "file_extension": ".py",
    "mimetype": "text/x-python",
    "name": "python",
    "npconvert_exporter": "python",
    "pygments_lexer": "ipython3",
    "version": 3,
    "kernelspec": {
      "name": "python37464bitbaseconda23cc93e4ef7e49748fdd6bc258b7b962",
      "display_name": "Python 3.7.4 64-bit ('base': conda)"
    },
    "colab": {
      "name": "GoogleHashcode2020Practice.ipynb",
      "provenance": [],
      "collapsed_sections": [],
      "machine_shape": "hm"
    }
  },
  "cells": [
    {
      "cell_type": "markdown",
      "metadata": {
        "id": "Qyc1lnNwhIZI",
        "colab_type": "text"
      },
      "source": [
        "# GoogleHashcode 2020 practice problem\n",
        "\n",
        "- [Faris Hijazi](https://github.com/FarisHijazi)\n",
        "- [Abdulmohsen Talal](https://github.com/mohsenTalal/HashCode)\n",
        "\n",
        "\n",
        "\n",
        "## loading the data"
      ]
    },
    {
      "cell_type": "code",
      "metadata": {
        "id": "oxR6wX-OJ1DO",
        "colab_type": "code",
        "outputId": "54d4e9fb-e8e7-4e78-be8f-eb46776581b2",
        "colab": {
          "base_uri": "https://localhost:8080/",
          "height": 52
        }
      },
      "source": [
        "!pip install line_profiler -q\n",
        "%load_ext line_profiler"
      ],
      "execution_count": 45,
      "outputs": [
        {
          "output_type": "stream",
          "text": [
            "The line_profiler extension is already loaded. To reload it, use:\n",
            "  %reload_ext line_profiler\n"
          ],
          "name": "stdout"
        }
      ]
    },
    {
      "cell_type": "code",
      "metadata": {
        "id": "YFrqAW3ggPnj",
        "colab_type": "code",
        "colab": {}
      },
      "source": [
        "import numpy as np\n",
        "import os\n",
        "import re\n",
        "import itertools\n",
        "from matplotlib import pyplot as plt\n",
        "\n",
        "\n",
        "def read_file(fname):\n",
        "    (max_slices, n_types), type2size = [list(map(int, line[:-1].split(' '))) for line in open(fname).readlines()]\n",
        "    type2size = np.array(type2size)\n",
        "    # plt.bar(np.arange(n_types), type2size)\n",
        "    # plt.title(f'{fname}, max_slices={max_slices}, n_types={n_types}')\n",
        "    # plt.show()\n",
        "    return (max_slices, n_types), type2size\n",
        "\n",
        "\n",
        "inputs = [\n",
        "    'a_example.in',\n",
        "    'b_small.in',\n",
        "    'c_medium.in',\n",
        "    'd_quite_big.in',\n",
        "    'e_also_big.in',\n",
        "]"
      ],
      "execution_count": 0,
      "outputs": []
    },
    {
      "cell_type": "code",
      "metadata": {
        "id": "TFS-hrsPK9pT",
        "colab_type": "code",
        "colab": {}
      },
      "source": [
        "infile = inputs[3]\n",
        "(max_slices__, n_types__), type2size__ = read_file(infile)\n",
        "\"\"\"\n",
        "type2size: given the type, returns the size\n",
        "size_of_i = type2size[i]\n",
        "\"\"\"\n",
        "\n",
        "print('max_slices:', max_slices__, 'ntypes:', n_types__)\n",
        "print('type2size:', type2size__)"
      ],
      "execution_count": 0,
      "outputs": []
    },
    {
      "cell_type": "code",
      "metadata": {
        "id": "7YJ0VR7wgPno",
        "colab_type": "code",
        "colab": {}
      },
      "source": [
        "# the order will be a list of pizzas, it's length will be \n",
        "class Order(object):\n",
        "    \"\"\"\n",
        "    contains info on an order\n",
        "\n",
        "    the goal is to order as many slices as possible without\n",
        "    \"\"\"\n",
        "    def __init__(self, infile, one_hot: np.array=None):\n",
        "        \"\"\"\n",
        "        @param infile: str filename to read\n",
        "        @param one_hot: a list of numbers corresponding to the number of pizzas for each type\n",
        "            if 5 == one_hot[0], this means the order contains 5 orders of type 0.\n",
        "        \"\"\"\n",
        "        self.infile = infile\n",
        "        (self.max_slices, self.n_types), self.type2size = read_file(infile)\n",
        "\n",
        "        self.one_hot = np.array(one_hot, dtype=int) if one_hot is not None \\\n",
        "            else np.zeros(self.n_types, dtype=int)\n",
        "        \n",
        "        if len(self.one_hot) != self.n_types:\n",
        "            raise Exception('order_list must be same length of self.n_types')\n",
        "        self.n_slices = 0\n",
        "\n",
        "        # this is just a dictionary to keep track of random useful things\n",
        "        self.state_dict = {}\n",
        "    \n",
        "    def count_slices(self) -> int:\n",
        "        #TODO: this indexing can be optimized, see numpy\n",
        "        return sum([self.type2size[i] * v for i, v in enumerate(self.one_hot)])\n",
        "\n",
        "    def score(self, one_hot=None) -> int:\n",
        "        \"\"\"\n",
        "        @returns the score for the order (number of slices) -1 if invalid\n",
        "        \"\"\"\n",
        "        if one_hot is None:\n",
        "            one_hot = self.one_hot\n",
        "\n",
        "        n_slices = self.count_slices()\n",
        "        if n_slices > self.max_slices or (one_hot>1).sum():\n",
        "            # print(f'INVALID: n_slices:({n_slices}) > max_slices:({max_slices})')\n",
        "            return n_slices - self.max_slices\n",
        "        return n_slices\n",
        "    def percent_score(self) -> float:\n",
        "        return self.score()/self.max_slices*100.0\n",
        "    \n",
        "    def try_add_pizza(self, i) -> bool:\n",
        "        \"\"\"\"\"\"\n",
        "        if self._can_add_pizza(i):\n",
        "            self.one_hot[i] = 1\n",
        "            self.n_slices += self.type2size[i]\n",
        "            return True\n",
        "        return False\n",
        "\n",
        "    def _can_add_pizza(self, i) -> bool:\n",
        "        return self.one_hot[i] != 1 and (self.max_slices - self.type2size[i] > self.n_slices)\n",
        "\n",
        "    def add_pizza(self, i):\n",
        "        \"\"\"adds pizza to the order and accumulates the size\"\"\"\n",
        "        if self.one_hot[i] == 1:\n",
        "            raise Exception(f\"can't add more than 1 pizza of each type.\"\n",
        "                f\"type {i} already existed in the order.\")\n",
        "        self.one_hot[i] = 1\n",
        "        self.n_slices += self.type2size[i]\n",
        "    \n",
        "    def remove_pizza(self, i):\n",
        "        if self.one_hot[i] == 0:\n",
        "            raise Exception(f\"can't remove a pizza that doesn't exist.\"\n",
        "                f\"type {i} didn't already existed in the order.\")\n",
        "        self.one_hot[i] = 0\n",
        "        self.n_slices -= self.type2size[i]\n",
        "\n",
        "    # bonus functions...\n",
        "\n",
        "    def plot(self):\n",
        "        used_boolarr = self.one_hot==1\n",
        "\n",
        "        plt.bar(np.where(~used_boolarr)[0], self.type2size[~used_boolarr], label='unused')\n",
        "        plt.bar(np.where(used_boolarr)[0], self.type2size[used_boolarr], label='used')\n",
        "        plt.title(f'\"{self.infile}\", max_slices={self.max_slices}, n_types={self.n_types}')\n",
        "        plt.legend()\n",
        "        return plt.show()\n",
        "\n",
        "    def get_output_str(self) -> str:\n",
        "        out_str = str(self.one_hot.sum()) + '\\n'\n",
        "        pizzas = np.where(self.one_hot==1)[0]\n",
        "        out_str += ' '.join(map(str, pizzas))\n",
        "        return out_str\n",
        "    \n",
        "    def write_output(self):\n",
        "        out_fname = re.sub('.in$', '.out', self.infile)\n",
        "        os.makedirs('output', exist_ok=True)\n",
        "\n",
        "        with open(os.path.join('output', out_fname), 'w') as file:\n",
        "            file.write(self.get_output_str())\n",
        "    \n",
        "    def __repr__(self):\n",
        "        return str('Order(\"{}\",\\tscore={:.6f}%({}/{}), {}'.format(\n",
        "             self.infile, self.percent_score(), self.score(), self.max_slices, np.where(self.one_hot==1)[0]\n",
        "        ))\n"
      ],
      "execution_count": 0,
      "outputs": []
    },
    {
      "cell_type": "markdown",
      "metadata": {
        "id": "_N8vVulOIvlS",
        "colab_type": "text"
      },
      "source": [
        "Simple greedy approaches\n",
        "\n",
        "We just sort and start from the largest\n",
        "\n",
        "### Approach 1\n",
        "\n",
        "sort in descending order and start putting larger pizzas first until \n",
        "\n",
        "<!-- ```algorithm\n",
        "starting with large\n",
        "``` -->"
      ]
    },
    {
      "cell_type": "code",
      "metadata": {
        "id": "khccM8WGgPns",
        "colab_type": "code",
        "colab": {}
      },
      "source": [
        "def greedy1(infile, verbose=False):\n",
        "    order = Order(infile)\n",
        "    # i: index of pizza\n",
        "    for i, size in reversed(list(zip(np.argsort(order.type2size), order.type2size))):\n",
        "        if order.max_slices - order.type2size[i] > order.count_slices():\n",
        "            order.one_hot[i] = 1\n",
        "    \n",
        "    if verbose:\n",
        "        order.plot()\n",
        "    \n",
        "    print(order)\n",
        "    return order\n",
        "\n",
        "\n",
        "def greedy2(infile, verbose=False):\n",
        "    \"\"\"same as greedy1 but accumulates slices instead of counting everytime\n",
        "    (much faster)\n",
        "    \"\"\"\n",
        "    order = Order(infile)\n",
        "    # i: index of pizza\n",
        "    for i, size in reversed(list(zip(np.argsort(order.type2size), order.type2size))):\n",
        "        if order.max_slices - order.type2size[i] > order.n_slices:\n",
        "            order.one_hot[i] = 1\n",
        "            order.n_slices += order.type2size[i]\n",
        "            \n",
        "    if verbose:\n",
        "        order.plot()\n",
        "    \n",
        "    print(order)\n",
        "    return order\n",
        "\n",
        "def greedy3(infile, verbose=False):\n",
        "    \"\"\"same as greedy1 but accumulates slices instead of counting everytime\n",
        "    (much faster)\n",
        "    \"\"\"\n",
        "    order = Order(infile)\n",
        "    # i: index of pizza\n",
        "    for i, size in reversed(list(zip(np.argsort(order.type2size), order.type2size))):\n",
        "       order.try_add_pizza(i)\n",
        "    \n",
        "    if verbose:\n",
        "        order.plot()\n",
        "    \n",
        "    print(order)\n",
        "    return order\n"
      ],
      "execution_count": 0,
      "outputs": []
    },
    {
      "cell_type": "markdown",
      "metadata": {
        "id": "8aXV0Vm3tDUy",
        "colab_type": "text"
      },
      "source": [
        "## Improving the approach\n",
        "\n",
        "the idea is that sometimes, if we remove a big piece and replace it with 2 small pieces, the sum is a bit greater\n",
        "\n",
        "- TIP: see this post on how to efficiently map functions from numpy arrays: https://stackoverflow.com/questions/35215161/most-efficient-way-to-map-function-over-numpy-array/35216364\n",
        "\n",
        "```algo\n",
        "# a finished order is given\n",
        "\n",
        "algorithm (order, iters):\n",
        "    for i in range(iters):\n",
        "        dist = order.max_slices - order.score # see how much is remaining to optimality\n",
        "        unused = np.where(order.one_hot==0)[0]\n",
        "        if dist <= 1:\n",
        "            return order\n",
        "        \n",
        "        used_piece = get_random_used_piece(order) #randomly choose a used piece\n",
        "        # find a combination of the unused s.t: used_piece < sum <= order.max_slices\n",
        "        if found combo:\n",
        "            remove that one piece\n",
        "            add those 2 pieces\n",
        "\n",
        "```\n"
      ]
    },
    {
      "cell_type": "code",
      "metadata": {
        "id": "Lgh_A6A7tCs3",
        "colab_type": "code",
        "colab": {}
      },
      "source": [
        "\n",
        "def improve_order(order, iters=300):\n",
        "    # n_samples = 100\n",
        "    if type(order) is str:\n",
        "        order = greedy3(str(order))\n",
        "\n",
        "    if order.score() < 0:\n",
        "        raise NotImplementedError(\"Only VALID orders are supported\")\n",
        "    \n",
        "    attempted_replacements = set()\n",
        "\n",
        "    for i in range(iters):\n",
        "        old_n_slices = order.n_slices # just keeping track for comparison\n",
        "\n",
        "        dist = order.max_slices - order.score() # see how much is remaining to optimality\n",
        "        unused_boolarr = order.one_hot==0\n",
        "        unused = np.where(unused_boolarr)[0]\n",
        "        print(f\"iter[{i}]: distance={dist}\", end='\\t')\n",
        "\n",
        "        if dist < 1:\n",
        "            print(order)\n",
        "            return order\n",
        " \n",
        "        #TODO: use the `dist`, it can be useful\n",
        "        # randomly choose a used piece\n",
        "\n",
        "        # these are the used elements that we didn't attempt removing before\n",
        "        sample_space = list(set(np.where(~unused_boolarr)[0]).difference(attempted_replacements))\n",
        "        if not sample_space: # if already exhausted the used pizzas, just return\n",
        "            print(order)\n",
        "            return order\n",
        "\n",
        "        used_piece = np.random.choice(sample_space)\n",
        "        attempted_replacements.add(used_piece)\n",
        "\n",
        "        # print(f\"Let's try removing piece:{used_piece}\", end='\\t')\n",
        "\n",
        "        # remove that one piece\n",
        "        order.remove_pizza(used_piece)\n",
        "\n",
        "        combo_size = 2\n",
        "        # find a combination of the unused s.t: order.type2size[used_piece] < sum_of_pcs <= order.max_slices\n",
        "        combos = list(itertools.combinations(unused, combo_size))\n",
        "\n",
        "        # sums, only those that satisfy the constraint are kept\n",
        "        def get_sum_of_pcs(tup):\n",
        "            sum_of_pcs = order.type2size[np.array(tup)].sum()\n",
        "            if order.type2size[used_piece] < sum_of_pcs and (order.n_slices + sum_of_pcs) <= order.max_slices:\n",
        "                return sum_of_pcs\n",
        "            else:\n",
        "                return -99999999\n",
        "        sums = list(map(get_sum_of_pcs, combos)) #FIXME: OPTIMIZE THIS\n",
        "        filtered = list(filter(lambda sum_of_pcs: order.type2size[used_piece] < sum_of_pcs and (order.n_slices + sum_of_pcs) <= order.max_slices, sums))\n",
        "\n",
        "        if len(filtered):\n",
        "            max_idx = np.argmax(sums)\n",
        "            new_pcs = combos[max_idx]\n",
        "            \n",
        "            # print('sums:', sums)\n",
        "            # print('filtered:', filtered)\n",
        "            # print('max_idx=', max_idx, 'new_pcs=', new_pcs)\n",
        "\n",
        "            # add those 2 pieces\n",
        "            for piece in new_pcs:\n",
        "                order.add_pizza(piece)\n",
        "\n",
        "            new_pc_sizes = [order.type2size[pc] for pc in new_pcs]\n",
        "            print(f'improved +{order.n_slices-old_n_slices}slices ({old_n_slices}->{order.n_slices}).'\n",
        "                  f'Did so by replacing a {order.type2size[used_piece]}slice pizza with pizzas of sizes {\"+\".join(map(str, new_pc_sizes))}={sum(new_pc_sizes)}')\n",
        "            attempted_replacements.remove(used_piece)\n",
        "        else:\n",
        "            # put piece back\n",
        "            order.add_pizza(used_piece)\n",
        "            print(f'no luck')\n",
        "    print(order)\n",
        "    return order\n",
        "\n",
        "\n",
        "def greedy4(infile, verbose=False, iters=300):\n",
        "    \"\"\"same as greedy 3 but with improving the order\"\"\"\n",
        "    order = Order(infile)\n",
        "    # i: index of pizza\n",
        "    for i, size in reversed(list(zip(np.argsort(order.type2size), order.type2size))):\n",
        "       order.try_add_pizza(i)\n",
        "    \n",
        "    order = improve_order(order, iters=300)\n",
        "\n",
        "    if verbose:\n",
        "        print(order)\n",
        "        order.plot()\n",
        "    return order\n",
        "\n",
        "\n",
        "# greedy4(inputs[4])"
      ],
      "execution_count": 0,
      "outputs": []
    },
    {
      "cell_type": "code",
      "metadata": {
        "id": "-gIxK8Nzywwb",
        "colab_type": "code",
        "colab": {}
      },
      "source": [
        "# testing stuff here\n",
        "\n",
        "# list(itertools.combinations(np.arange(1000), 2))"
      ],
      "execution_count": 0,
      "outputs": []
    },
    {
      "cell_type": "code",
      "metadata": {
        "id": "KmmHH8zeBdku",
        "colab_type": "code",
        "colab": {
          "base_uri": "https://localhost:8080/",
          "height": 1000
        },
        "outputId": "75616cc7-8a2a-4deb-d3a9-79d0c180a9a1"
      },
      "source": [
        "r = %lprun -r -f improve_order improve_order(inputs[4], iters=2)\n",
        "r.print_stats()"
      ],
      "execution_count": 147,
      "outputs": [
        {
          "output_type": "stream",
          "text": [
            "Order(\"e_also_big.in\",\tscore=99.999997%(504999983/505000000), [ 266 5730 5731 ... 9997 9998 9999]\n",
            "iter[0]: distance=17\tLet's try removing piece:8579\timproved +17slices (504999983->505000000).Did so by replacing a 128611slice pizza with pizzas of sizes 42614+86014=128628\n",
            "iter[1]: distance=0\tOrder(\"e_also_big.in\",\tscore=100.000000%(505000000/505000000), [ 266 2849 5707 ... 9997 9998 9999]\n",
            "Timer unit: 1e-06 s\n",
            "\n",
            "Total time: 106.061 s\n",
            "File: <ipython-input-144-f5dd146b5da2>\n",
            "Function: improve_order at line 2\n",
            "\n",
            "Line #      Hits         Time  Per Hit   % Time  Line Contents\n",
            "==============================================================\n",
            "     2                                           def improve_order(order, iters=300):\n",
            "     3                                               # n_samples = 100\n",
            "     4         1          6.0      6.0      0.0      if type(order) is str:\n",
            "     5         1      49090.0  49090.0      0.0          order = greedy3(str(order))\n",
            "     6                                           \n",
            "     7         1       6551.0   6551.0      0.0      if order.score() < 0:\n",
            "     8                                                   raise NotImplementedError(\"Only VALID orders are supported\")\n",
            "     9                                               \n",
            "    10         1          6.0      6.0      0.0      attempted_replacements = set()\n",
            "    11                                           \n",
            "    12         2          8.0      4.0      0.0      for i in range(iters):\n",
            "    13         2          5.0      2.5      0.0          old_n_slices = order.n_slices # just keeping track for comparison\n",
            "    14                                           \n",
            "    15         2      14381.0   7190.5      0.0          dist = order.max_slices - order.score() # see how much is remaining to optimality\n",
            "    16         2         27.0     13.5      0.0          unused_boolarr = order.one_hot==0\n",
            "    17         2         75.0     37.5      0.0          unused = np.where(unused_boolarr)[0]\n",
            "    18         2        510.0    255.0      0.0          print(f\"iter[{i}]: distance={dist}\", end='\\t')\n",
            "    19                                           \n",
            "    20         2          9.0      4.5      0.0          if dist < 1:\n",
            "    21         1      13825.0  13825.0      0.0              print(order)\n",
            "    22         1          5.0      5.0      0.0              return order\n",
            "    23                                            \n",
            "    24                                                   #TODO: use the `dist`, it can be useful\n",
            "    25                                                   # randomly choose a used piece\n",
            "    26                                           \n",
            "    27                                                   # these are the used elements that we didn't attempt removing before\n",
            "    28         1        421.0    421.0      0.0          sample_space = list(set(np.where(~unused_boolarr)[0]).difference(attempted_replacements))\n",
            "    29         1          2.0      2.0      0.0          if not sample_space: # if already exhausted the used pizzas, just return\n",
            "    30                                                       print(order)\n",
            "    31                                                       return order\n",
            "    32                                           \n",
            "    33         1        445.0    445.0      0.0          used_piece = np.random.choice(sample_space)\n",
            "    34         1          2.0      2.0      0.0          attempted_replacements.add(used_piece)\n",
            "    35         1        211.0    211.0      0.0          print(f\"Let's try removing piece:{used_piece}\", end='\\t')\n",
            "    36                                                   # remove that one piece\n",
            "    37         1         13.0     13.0      0.0          order.remove_pizza(used_piece)\n",
            "    38                                           \n",
            "    39         1          1.0      1.0      0.0          combo_size = 2\n",
            "    40                                                   # find a combination of the unused s.t: order.type2size[used_piece] < sum_of_pcs <= order.max_slices\n",
            "    41         1    1551992.0 1551992.0      1.5          combos = list(itertools.combinations(unused, combo_size))\n",
            "    42                                           \n",
            "    43                                                   # sums, only those that satisfy the constraint are kept\n",
            "    44         1          5.0      5.0      0.0          def get_sum_of_pcs(tup):\n",
            "    45                                                       sum_of_pcs = order.type2size[np.array(tup)].sum()\n",
            "    46                                                       if order.type2size[used_piece] < sum_of_pcs and (order.n_slices + sum_of_pcs) <= order.max_slices:\n",
            "    47                                                           return sum_of_pcs\n",
            "    48                                                       else:\n",
            "    49                                                           return -99999999\n",
            "    50         1   91455193.0 91455193.0     86.2          sums = list(map(get_sum_of_pcs, combos)) #FIXME: OPTIMIZE THIS\n",
            "    51                                                   # sums = sums[(order.type2size[used_piece] < sums) & (order.n_slices + sums) <= order.max_slices]\n",
            "    52         1   11736736.0 11736736.0     11.1          filtered = list(filter(lambda sum_of_pcs: order.type2size[used_piece] < sum_of_pcs and (order.n_slices + sum_of_pcs) <= order.max_slices, sums))\n",
            "    53                                           \n",
            "    54         1          8.0      8.0      0.0          if len(filtered):\n",
            "    55         1    1230564.0 1230564.0      1.2              max_idx = np.argmax(sums)\n",
            "    56         1         22.0     22.0      0.0              new_pcs = combos[max_idx]\n",
            "    57                                                       \n",
            "    58                                                       # print('sums:', sums)\n",
            "    59                                                       # print('filtered:', filtered)\n",
            "    60                                                       # print('max_idx=', max_idx, 'new_pcs=', new_pcs)\n",
            "    61                                           \n",
            "    62                                                       # add those 2 pieces\n",
            "    63         3          8.0      2.7      0.0              for piece in new_pcs:\n",
            "    64         2         47.0     23.5      0.0                  order.add_pizza(piece)\n",
            "    65                                           \n",
            "    66         1          9.0      9.0      0.0              new_pc_sizes = [order.type2size[pc] for pc in new_pcs]\n",
            "    67         1        389.0    389.0      0.0              print(f'improved +{order.n_slices-old_n_slices}slices ({old_n_slices}->{order.n_slices}).'\n",
            "    68                                                             f'Did so by replacing a {order.type2size[used_piece]}slice pizza with pizzas of sizes {\"+\".join(map(str, new_pc_sizes))}={sum(new_pc_sizes)}')\n",
            "    69         1          7.0      7.0      0.0              attempted_replacements.remove(used_piece)\n",
            "    70                                                   else:\n",
            "    71                                                       # put piece back\n",
            "    72                                                       order.add_pizza(used_piece)\n",
            "    73                                                       print(f'no luck')\n",
            "    74                                               print(order)\n",
            "    75                                               return order\n",
            "\n"
          ],
          "name": "stdout"
        }
      ]
    },
    {
      "cell_type": "markdown",
      "metadata": {
        "id": "9DTqsM0iDaTj",
        "colab_type": "text"
      },
      "source": [
        "improve_order line profile\n",
        "\n",
        "notice the line of `list(sums)` is taking most of the time, this is because it has to execute all the mapping and the comparison, we can make this more efficient using numpy.\n",
        "\n",
        "    42       300    3911810.0  13039.4     80.5          sums = list(sums)\n",
        "\n",
        "I tried using `sums = np.fromiter(sums, int)` instead to speed things up, unfortunately no dice.  \n",
        "Now for tha `map()`, it seems that there's no way to speed it up, so I'm thinking maybe we could just use `list(map(...))` normally, but for `filter(...)`, we could use the numpy boolean arrays to make things more efficient, I got the following results:\n",
        "\n",
        "```\n",
        "Line #      Hits         Time  Per Hit   % Time  Line Contents\n",
        "==============================================================\n",
        "     ....\n",
        "     ....\n",
        "    39       300    3715147.0  12383.8     61.1          sums = list(map(lambda tup: sum([order.type2size[i] for i in tup]), combos))\n",
        "    40 ....\n",
        "    41       300    1315154.0   4383.8     21.6          sums = list(filter(lambda sum_of_pcs: order.type2size[used_piece] < sum_of_pcs and                            (order.n_slices + sum_of_pcs) <= order.max_slices, sums))\n",
        "    42                                           \n",
        "```\n",
        "\n",
        "So we can see that `map()` is taking up x3 times more time than the `filter()` (which is unfortunate cuz we can't speed up the map much).\n",
        "\n"
      ]
    },
    {
      "cell_type": "code",
      "metadata": {
        "id": "T09eszCiKLGx",
        "colab_type": "code",
        "outputId": "ff0deae5-de82-4ec3-eb86-4fa921770e2c",
        "colab": {
          "base_uri": "https://localhost:8080/",
          "height": 401
        }
      },
      "source": [
        "r = %lprun -r -f greedy1 greedy1('d_quite_big.in', verbose=True)\n",
        "r.print_stats()"
      ],
      "execution_count": 139,
      "outputs": [
        {
          "output_type": "stream",
          "text": [
            "*** KeyboardInterrupt exception caught in code being profiled.Timer unit: 1e-06 s\n",
            "\n",
            "Total time: 11.8433 s\n",
            "File: <ipython-input-10-61fa345ad3ef>\n",
            "Function: greedy1 at line 1\n",
            "\n",
            "Line #      Hits         Time  Per Hit   % Time  Line Contents\n",
            "==============================================================\n",
            "     1                                           def greedy1(infile, verbose=False):\n",
            "     2         1       2511.0   2511.0      0.0      order = Order(infile)\n",
            "     3                                               # i: index of pizza\n",
            "     4      2001       2748.0      1.4      0.0      for i, size in reversed(list(zip(np.argsort(order.type2size), order.type2size))):\n",
            "     5      2000    2464074.0   1232.0     20.8          if order.max_slices - order.type2size[i] > order.count_slices():\n",
            "     6      1812       5383.0      3.0      0.0              order.one_hot[i] = 1\n",
            "     7                                               \n",
            "     8         1          1.0      1.0      0.0      if verbose:\n",
            "     9         1    9368619.0 9368619.0     79.1          order.plot()\n",
            "    10                                               \n",
            "    11                                               print(order)\n",
            "    12                                               return order\n",
            "\n"
          ],
          "name": "stdout"
        }
      ]
    },
    {
      "cell_type": "code",
      "metadata": {
        "id": "ievqyQjYL7kj",
        "colab_type": "code",
        "outputId": "d6b97023-06b9-4ac5-b12d-5279b48930da",
        "colab": {
          "base_uri": "https://localhost:8080/",
          "height": 752
        }
      },
      "source": [
        "r = %lprun -r -f greedy2 greedy2('d_quite_big.in', verbose=True)\n",
        "r.print_stats()"
      ],
      "execution_count": 140,
      "outputs": [
        {
          "output_type": "display_data",
          "data": {
            "image/png": "[encoded data removed]",
            "text/plain": [
              "<Figure size 432x288 with 1 Axes>"
            ]
          },
          "metadata": {
            "tags": []
          }
        },
        {
          "output_type": "stream",
          "text": [
            "Order(\"d_quite_big.in\",\tscore=99.999972%(999999725/1000000000), [  17  189  190 ... 1997 1998 1999]\n",
            "Timer unit: 1e-06 s\n",
            "\n",
            "Total time: 7.6318 s\n",
            "File: <ipython-input-10-61fa345ad3ef>\n",
            "Function: greedy2 at line 15\n",
            "\n",
            "Line #      Hits         Time  Per Hit   % Time  Line Contents\n",
            "==============================================================\n",
            "    15                                           def greedy2(infile, verbose=False):\n",
            "    16                                               \"\"\"same as greedy1 but accumulates slices instead of counting everytime\n",
            "    17                                               (much faster)\n",
            "    18                                               \"\"\"\n",
            "    19         1       1745.0   1745.0      0.0      order = Order(infile)\n",
            "    20                                               # i: index of pizza\n",
            "    21      2001       2066.0      1.0      0.0      for i, size in reversed(list(zip(np.argsort(order.type2size), order.type2size))):\n",
            "    22      2000       2772.0      1.4      0.0          if order.max_slices - order.type2size[i] > order.n_slices:\n",
            "    23      1812       1573.0      0.9      0.0              order.one_hot[i] = 1\n",
            "    24      1812       2141.0      1.2      0.0              order.n_slices += order.type2size[i]\n",
            "    25                                                       \n",
            "    26         1          2.0      2.0      0.0      if verbose:\n",
            "    27         1    7617701.0 7617701.0     99.8          order.plot()\n",
            "    28                                               \n",
            "    29         1       3800.0   3800.0      0.0      print(order)\n",
            "    30         1          3.0      3.0      0.0      return order\n",
            "\n"
          ],
          "name": "stdout"
        }
      ]
    },
    {
      "cell_type": "code",
      "metadata": {
        "id": "M4S1TB-mdlRd",
        "colab_type": "code",
        "outputId": "fe3ba7ca-5209-43c9-cde7-a8432115edd0",
        "colab": {
          "base_uri": "https://localhost:8080/",
          "height": 717
        }
      },
      "source": [
        "r = %lprun -r -f greedy3 greedy3('d_quite_big.in', verbose=True)\n",
        "r.print_stats()"
      ],
      "execution_count": 141,
      "outputs": [
        {
          "output_type": "display_data",
          "data": {
            "image/png": "[encoded data removed]",
            "text/plain": [
              "<Figure size 432x288 with 1 Axes>"
            ]
          },
          "metadata": {
            "tags": []
          }
        },
        {
          "output_type": "stream",
          "text": [
            "Order(\"d_quite_big.in\",\tscore=99.999972%(999999725/1000000000), [  17  189  190 ... 1997 1998 1999]\n",
            "Timer unit: 1e-06 s\n",
            "\n",
            "Total time: 7.99002 s\n",
            "File: <ipython-input-10-61fa345ad3ef>\n",
            "Function: greedy3 at line 32\n",
            "\n",
            "Line #      Hits         Time  Per Hit   % Time  Line Contents\n",
            "==============================================================\n",
            "    32                                           def greedy3(infile, verbose=False):\n",
            "    33                                               \"\"\"same as greedy1 but accumulates slices instead of counting everytime\n",
            "    34                                               (much faster)\n",
            "    35                                               \"\"\"\n",
            "    36         1       1368.0   1368.0      0.0      order = Order(infile)\n",
            "    37                                               # i: index of pizza\n",
            "    38      2001       2087.0      1.0      0.0      for i, size in reversed(list(zip(np.argsort(order.type2size), order.type2size))):\n",
            "    39      2000       7405.0      3.7      0.1         order.try_add_pizza(i)\n",
            "    40                                               \n",
            "    41         1          1.0      1.0      0.0      if verbose:\n",
            "    42         1    7975679.0 7975679.0     99.8          order.plot()\n",
            "    43                                               \n",
            "    44         1       3483.0   3483.0      0.0      print(order)\n",
            "    45         1          2.0      2.0      0.0      return order\n",
            "\n"
          ],
          "name": "stdout"
        }
      ]
    },
    {
      "cell_type": "code",
      "metadata": {
        "id": "EFCs9v23M9k1",
        "colab_type": "code",
        "outputId": "55721fb6-2593-4ae6-a50f-bd4ed464be0b",
        "colab": {
          "base_uri": "https://localhost:8080/",
          "height": 1000
        }
      },
      "source": [
        "for input in inputs:\n",
        "    order = greedy4(input)\n",
        "    order.write_output()"
      ],
      "execution_count": 150,
      "outputs": [
        {
          "output_type": "stream",
          "text": [
            "iter[0]: distance=1\tno luck\n",
            "iter[1]: distance=1\tno luck\n",
            "iter[2]: distance=1\tno luck\n",
            "iter[3]: distance=1\tOrder(\"a_example.in\",\tscore=94.117647%(16/17), [0 2 3]\n",
            "iter[0]: distance=1\timproved +1slices (99->100).Did so by replacing a 95slice pizza with pizzas of sizes 14+82=96\n",
            "iter[1]: distance=0\tOrder(\"b_small.in\",\tscore=100.000000%(100/100), [0 1 7]\n",
            "iter[0]: distance=5\timproved +1slices (4495->4496).Did so by replacing a 63slice pizza with pizzas of sizes 32+32=64\n",
            "iter[1]: distance=4\tno luck\n",
            "iter[2]: distance=4\tno luck\n",
            "iter[3]: distance=4\tno luck\n",
            "iter[4]: distance=4\tno luck\n",
            "iter[5]: distance=4\tno luck\n",
            "iter[6]: distance=4\tno luck\n",
            "iter[7]: distance=4\tno luck\n",
            "iter[8]: distance=4\tno luck\n",
            "iter[9]: distance=4\tno luck\n",
            "iter[10]: distance=4\tno luck\n",
            "iter[11]: distance=4\tno luck\n",
            "iter[12]: distance=4\tno luck\n",
            "iter[13]: distance=4\tno luck\n",
            "iter[14]: distance=4\tno luck\n",
            "iter[15]: distance=4\tno luck\n",
            "iter[16]: distance=4\tno luck\n",
            "iter[17]: distance=4\tno luck\n",
            "iter[18]: distance=4\tno luck\n",
            "iter[19]: distance=4\timproved +2slices (4496->4498).Did so by replacing a 68slice pizza with pizzas of sizes 7+63=70\n",
            "iter[20]: distance=2\tno luck\n",
            "iter[21]: distance=2\tno luck\n",
            "iter[22]: distance=2\tno luck\n",
            "iter[23]: distance=2\tno luck\n",
            "iter[24]: distance=2\tno luck\n",
            "iter[25]: distance=2\tno luck\n",
            "iter[26]: distance=2\tno luck\n",
            "iter[27]: distance=2\timproved +1slices (4498->4499).Did so by replacing a 97slice pizza with pizzas of sizes 30+68=98\n",
            "iter[28]: distance=1\timproved +1slices (4499->4500).Did so by replacing a 56slice pizza with pizzas of sizes 28+29=57\n",
            "iter[29]: distance=0\tOrder(\"c_medium.in\",\tscore=100.000000%(4500/4500), [ 0  4  5  6  8  9 10 11 12 13 14 16 17 18 19 20 21 22 23 24 25 26 27 29\n",
            " 30 31 32 33 34 35 36 37 38 39 40 41 42 43 44 45 46 47 48 49]\n",
            "iter[0]: distance=275\tno luck\n",
            "iter[1]: distance=275\tno luck\n",
            "iter[2]: distance=275\tno luck\n",
            "iter[3]: distance=275\timproved +231slices (999999725->999999956).Did so by replacing a 184743slice pizza with pizzas of sizes 86016+98958=184974\n",
            "iter[4]: distance=44\tno luck\n",
            "iter[5]: distance=44\tno luck\n",
            "iter[6]: distance=44\tno luck\n",
            "iter[7]: distance=44\tno luck\n",
            "iter[8]: distance=44\tno luck\n",
            "iter[9]: distance=44\tno luck\n",
            "iter[10]: distance=44\tno luck\n",
            "iter[11]: distance=44\tno luck\n",
            "iter[12]: distance=44\tno luck\n",
            "iter[13]: distance=44\tno luck\n",
            "iter[14]: distance=44\tno luck\n",
            "iter[15]: distance=44\tno luck\n",
            "iter[16]: distance=44\tno luck\n",
            "iter[17]: distance=44\tno luck\n",
            "iter[18]: distance=44\tno luck\n",
            "iter[19]: distance=44\tno luck\n",
            "iter[20]: distance=44\tno luck\n",
            "iter[21]: distance=44\tno luck\n",
            "iter[22]: distance=44\timproved +25slices (999999956->999999981).Did so by replacing a 163049slice pizza with pizzas of sizes 73252+89822=163074\n",
            "iter[23]: distance=19\tno luck\n",
            "iter[24]: distance=19\tno luck\n",
            "iter[25]: distance=19\tno luck\n",
            "iter[26]: distance=19\tno luck\n",
            "iter[27]: distance=19\tno luck\n",
            "iter[28]: distance=19\tno luck\n",
            "iter[29]: distance=19\timproved +19slices (999999981->1000000000).Did so by replacing a 139867slice pizza with pizzas of sizes 60789+79097=139886\n",
            "iter[30]: distance=0\tOrder(\"d_quite_big.in\",\tscore=100.000000%(1000000000/1000000000), [  17  107  135 ... 1997 1998 1999]\n",
            "iter[0]: distance=17\timproved +17slices (504999983->505000000).Did so by replacing a 111354slice pizza with pizzas of sizes 26344+85027=111371\n",
            "iter[1]: distance=0\tOrder(\"e_also_big.in\",\tscore=100.000000%(505000000/505000000), [ 266 1703 5639 ... 9997 9998 9999]\n"
          ],
          "name": "stdout"
        }
      ]
    },
    {
      "cell_type": "code",
      "metadata": {
        "id": "VGsbwxI5gPnv",
        "colab_type": "code",
        "colab": {}
      },
      "source": [
        "# import numpy as np\n",
        "# from scipy.optimize import minimize\n",
        "\n",
        "\n",
        "# def rosen(x):\n",
        "#     \"\"\"The Rosenbrock function\"\"\"\n",
        "#     return sum(100.0*(x[1:]-x[:-1]**2.0)**2.0 + (1-x[:-1])**2.0)\n",
        "\n",
        "\n",
        "# x0 = np.array([1.3, 0.7, 0.8, 1.9, 1.2])\n",
        "# res = minimize(rosen, x0, method='nelder-mead',\n",
        "#                options={'xatol': 1e-8, 'disp': True})"
      ],
      "execution_count": 0,
      "outputs": []
    },
    {
      "cell_type": "code",
      "metadata": {
        "id": "SjXN3z0pgPn6",
        "colab_type": "code",
        "colab": {}
      },
      "source": [
        ""
      ],
      "execution_count": 0,
      "outputs": []
    }
  ]
}