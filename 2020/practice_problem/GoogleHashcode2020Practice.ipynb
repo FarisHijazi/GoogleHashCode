{
  "nbformat": 4,
  "nbformat_minor": 0,
  "metadata": {
    "language_info": {
      "name": "python",
      "codemirror_mode": {
        "name": "ipython",
        "version": 3
      },
      "version": "3.7.4-final"
    },
    "orig_nbformat": 2,
    "file_extension": ".py",
    "mimetype": "text/x-python",
    "name": "python",
    "npconvert_exporter": "python",
    "pygments_lexer": "ipython3",
    "version": 3,
    "kernelspec": {
      "name": "python37464bitbaseconda23cc93e4ef7e49748fdd6bc258b7b962",
      "display_name": "Python 3.7.4 64-bit ('base': conda)"
    },
    "colab": {
      "name": "GoogleHashcode2020Practice.ipynb",
      "provenance": [],
      "collapsed_sections": [],
      "machine_shape": "hm"
    }
  },
  "cells": [
    {
      "cell_type": "markdown",
      "metadata": {
        "id": "Qyc1lnNwhIZI",
        "colab_type": "text"
      },
      "source": [
        "# look this is a markdown cell"
      ]
    },
    {
      "cell_type": "code",
      "metadata": {
        "id": "YFrqAW3ggPnj",
        "colab_type": "code",
        "colab": {}
      },
      "source": [
        "import numpy as np\n",
        "import os\n",
        "import re\n",
        "import itertools\n",
        "from matplotlib import pyplot as plt\n",
        "\n",
        "def read_file(fname):\n",
        "    (max_slices, n_types), type2size = [list(map(int, line[:-1].split(' '))) for line in open(fname).readlines()]\n",
        "    type2size = np.array(type2size)\n",
        "\n",
        "    # plt.bar(np.arange(n_types), type2size)\n",
        "    # plt.title(f'{fname}, max_slices={max_slices}, n_types={n_types}')\n",
        "    # plt.show()\n",
        "\n",
        "    return (max_slices, n_types), type2size\n",
        "\n",
        "\n",
        "inputs = [\n",
        "    'a_example.in',\n",
        "    'b_small.in',\n",
        "    'c_medium.in',\n",
        "    'd_quite_big.in',\n",
        "    'e_also_big.in',\n",
        "]"
      ],
      "execution_count": 0,
      "outputs": []
    },
    {
      "cell_type": "code",
      "metadata": {
        "id": "TFS-hrsPK9pT",
        "colab_type": "code",
        "outputId": "a6bb1f65-fe4c-419f-aff7-0c02f1a90b36",
        "colab": {
          "base_uri": "https://localhost:8080/",
          "height": 52
        }
      },
      "source": [
        "infile = inputs[3]\n",
        "(max_slices, n_types), type2size = read_file(infile)\n",
        "\"\"\"\n",
        "type2size: given the type, returns the size\n",
        "size_of_i = type2size[i]\n",
        "\"\"\"\n",
        "\n",
        "print('max_slices:', max_slices, 'ntypes:', n_types)\n",
        "print('type2size:', type2size)"
      ],
      "execution_count": 49,
      "outputs": [
        {
          "output_type": "stream",
          "text": [
            "max_slices: 1000000000 ntypes: 2000\n",
            "type2size: [   476    650   1257 ... 998294 999795 999867]\n"
          ],
          "name": "stdout"
        }
      ]
    },
    {
      "cell_type": "code",
      "metadata": {
        "id": "7YJ0VR7wgPno",
        "colab_type": "code",
        "colab": {}
      },
      "source": [
        "# the order will be a list of pizzas, it's length will be \n",
        "class Order(object):\n",
        "    \"\"\"\n",
        "    contains info on an order\n",
        "\n",
        "    the goal is to order as many slices as possible without\n",
        "    \"\"\"\n",
        "    def __init__(self, infile, one_hot: np.array=None):\n",
        "        \"\"\"\n",
        "        @param infile: str filename to read\n",
        "        @param one_hot: a list of numbers corresponding to the number of pizzas for each type\n",
        "            if 5 == one_hot[0], this means the order contains 5 orders of type 0.\n",
        "        \"\"\"\n",
        "        self.infile = infile\n",
        "        (self.max_slices, self.n_types), self.type2size = read_file(infile)\n",
        "\n",
        "        self.one_hot = np.array(one_hot, dtype=int) if one_hot is not None \\\n",
        "            else np.zeros(self.n_types, dtype=int)\n",
        "        \n",
        "        if len(self.one_hot) != self.n_types:\n",
        "            raise Exception('order_list must be same length of self.n_types')\n",
        "        self.n_slices = 0\n",
        "    \n",
        "    def count_slices(self) -> int:\n",
        "        #TODO: this indexing can be optimized, see numpy\n",
        "        return sum([self.type2size[i] * v for i, v in enumerate(self.one_hot)])\n",
        "\n",
        "    def score(self, one_hot=None) -> int:\n",
        "        \"\"\"\n",
        "        @returns the score for the order (number of slices) -1 if invalid\n",
        "        \"\"\"\n",
        "        if one_hot is None:\n",
        "            one_hot = self.one_hot\n",
        "\n",
        "        n_slices = self.count_slices()\n",
        "        if n_slices > self.max_slices or (one_hot>1).sum():\n",
        "            # print(f'INVALID: n_slices:({n_slices}) > max_slices:({max_slices})')\n",
        "            return n_slices - self.max_slices\n",
        "        return n_slices\n",
        "    def percent_score(self) -> float:\n",
        "        return self.score()/self.max_slices*100.0\n",
        "    \n",
        "    def try_add_pizza(self, i) -> bool:\n",
        "        \"\"\"\"\"\"\n",
        "        if self._can_add_pizza(i):\n",
        "            self.one_hot[i] = 1\n",
        "            self.n_slices += self.type2size[i]\n",
        "            return True\n",
        "        return False\n",
        "\n",
        "    def _can_add_pizza(self, i) -> bool:\n",
        "        return self.one_hot[i] != 1 and (self.max_slices - self.type2size[i] > self.n_slices)\n",
        "\n",
        "    def add_pizza(self, i):\n",
        "        \"\"\"adds pizza to the order and accumulates the size\"\"\"\n",
        "        if self.one_hot[i] == 1:\n",
        "            raise Exception(f\"can't add more than 1 pizza of each type.\"\n",
        "                f\"type {i} already existed in the order.\")\n",
        "        self.one_hot[i] = 1\n",
        "        self.n_slices += self.type2size[i]\n",
        "    \n",
        "    def remove_pizza(self, i):\n",
        "        if self.one_hot[i] == 0:\n",
        "            raise Exception(f\"can't remove a pizza that doesn't exist.\"\n",
        "                f\"type {i} didn't already existed in the order.\")\n",
        "        self.one_hot[i] = 0\n",
        "        self.n_slices -= self.type2size[i]\n",
        "\n",
        "    # bonus functions...\n",
        "\n",
        "    def plot(self):\n",
        "        plt.bar(np.where(self.one_hot!=1)[0], self.type2size[self.one_hot!=1], label='unused')\n",
        "        plt.bar(np.where(self.one_hot==1)[0], self.type2size[self.one_hot==1], label='used')\n",
        "        plt.title(f'\"{self.infile}\", max_slices={self.max_slices}, n_types={self.n_types}')\n",
        "        plt.legend()\n",
        "        return plt.show()\n",
        "\n",
        "    def get_output_str(self) -> str:\n",
        "        out_str = str(self.one_hot.sum()) + '\\n'\n",
        "        pizzas = np.where(self.one_hot==1)[0]\n",
        "        out_str += ' '.join(map(str, pizzas))\n",
        "        return out_str\n",
        "    \n",
        "    def write_output(self):\n",
        "        out_fname = re.sub('.in$', '.out', self.infile)\n",
        "        os.makedirs('output', exist_ok=True)\n",
        "\n",
        "        with open(os.path.join('output', out_fname), 'w') as file:\n",
        "            file.write(self.get_output_str())\n",
        "    \n",
        "    def __repr__(self):\n",
        "        return str('Order(\"{}\",\\tscore={:.6f}%({}/{}), {}'.format(\n",
        "             self.infile, self.percent_score(), self.score(), self.max_slices, np.where(self.one_hot==1)[0]\n",
        "        ))\n"
      ],
      "execution_count": 0,
      "outputs": []
    },
    {
      "cell_type": "markdown",
      "metadata": {
        "id": "_N8vVulOIvlS",
        "colab_type": "text"
      },
      "source": [
        "Simple greedy approaches\n",
        "\n",
        "We just sort and start from the largest\n",
        "\n",
        "```algorithm\n",
        "\n",
        "```"
      ]
    },
    {
      "cell_type": "code",
      "metadata": {
        "id": "khccM8WGgPns",
        "colab_type": "code",
        "colab": {}
      },
      "source": [
        "def greedy1(infile):\n",
        "    order = Order(infile)\n",
        "    # i: index of pizza\n",
        "    for i, size in reversed(list(zip(np.argsort(order.type2size), order.type2size))):\n",
        "        if order.max_slices - order.type2size[i] > order.count_slices():\n",
        "            order.one_hot[i] = 1\n",
        "    \n",
        "    print(order)\n",
        "    order.plot()\n",
        "    return order\n",
        "\n",
        "\n",
        "def greedy2(infile):\n",
        "    \"\"\"same as greedy1 but accumulates slices instead of counting everytime\n",
        "    (much faster)\n",
        "    \"\"\"\n",
        "    order = Order(infile)\n",
        "    # i: index of pizza\n",
        "    for i, size in reversed(list(zip(np.argsort(order.type2size), order.type2size))):\n",
        "        if order.max_slices - order.type2size[i] > order.n_slices:\n",
        "            order.one_hot[i] = 1\n",
        "            order.n_slices += order.type2size[i]\n",
        "            \n",
        "    print(order)\n",
        "    order.plot()\n",
        "    return order\n",
        "\n",
        "def greedy3(infile):\n",
        "    \"\"\"same as greedy1 but accumulates slices instead of counting everytime\n",
        "    (much faster)\n",
        "    \"\"\"\n",
        "    order = Order(infile)\n",
        "    # i: index of pizza\n",
        "    for i, size in reversed(list(zip(np.argsort(order.type2size), order.type2size))):\n",
        "       order.try_add_pizza(i)\n",
        "    \n",
        "    print(order)\n",
        "    order.plot()\n",
        "    return order\n",
        "\n",
        "\n",
        "def improve_order(order, iterations=300):\n",
        "    raise NotImplementedError()\n",
        "    return order"
      ],
      "execution_count": 0,
      "outputs": []
    },
    {
      "cell_type": "code",
      "metadata": {
        "id": "oxR6wX-OJ1DO",
        "colab_type": "code",
        "outputId": "8140d53a-975f-45c1-f60c-9bcdf3928df3",
        "colab": {
          "base_uri": "https://localhost:8080/",
          "height": 52
        }
      },
      "source": [
        "!pip install line_profiler -q\n",
        "%load_ext line_profiler"
      ],
      "execution_count": 62,
      "outputs": [
        {
          "output_type": "stream",
          "text": [
            "The line_profiler extension is already loaded. To reload it, use:\n",
            "  %reload_ext line_profiler\n"
          ],
          "name": "stdout"
        }
      ]
    },
    {
      "cell_type": "code",
      "metadata": {
        "id": "T09eszCiKLGx",
        "colab_type": "code",
        "outputId": "58a4cd2f-e156-41fd-e4e8-8290e02faede",
        "colab": {
          "base_uri": "https://localhost:8080/",
          "height": 329
        }
      },
      "source": [
        "r = %lprun -r -f greedy1 greedy1('d_quite_big.in')\n",
        "r.print_stats()"
      ],
      "execution_count": 59,
      "outputs": [
        {
          "output_type": "stream",
          "text": [
            "Order(\"d_quite_big.in\",\tscore=99.999972%(999999725/1000000000), [  17  189  190 ... 1997 1998 1999]\n",
            "Timer unit: 1e-06 s\n",
            "\n",
            "Total time: 2.50081 s\n",
            "File: <ipython-input-57-312430b3a3ce>\n",
            "Function: greedy1 at line 1\n",
            "\n",
            "Line #      Hits         Time  Per Hit   % Time  Line Contents\n",
            "==============================================================\n",
            "     1                                           def greedy1(infile):\n",
            "     2         1       3157.0   3157.0      0.1      order = Order(infile)\n",
            "     3                                               # i: index of pizza\n",
            "     4      2001       3192.0      1.6      0.1      for i, size in reversed(list(zip(np.argsort(order.type2size), order.type2size))):\n",
            "     5      2000    2486231.0   1243.1     99.4          if order.max_slices - order.type2size[i] > order.count_slices():\n",
            "     6      1812       3910.0      2.2      0.2              order.one_hot[i] = 1\n",
            "     7         1       4320.0   4320.0      0.2      print(order)\n",
            "     8         1          2.0      2.0      0.0      return order\n",
            "\n"
          ],
          "name": "stdout"
        }
      ]
    },
    {
      "cell_type": "code",
      "metadata": {
        "id": "ievqyQjYL7kj",
        "colab_type": "code",
        "outputId": "5a17ba12-4156-4d8e-afcb-a5dd7329e058",
        "colab": {
          "base_uri": "https://localhost:8080/",
          "height": 697
        }
      },
      "source": [
        "r = %lprun -r -f greedy2 greedy2('d_quite_big.in')\n",
        "r.print_stats()"
      ],
      "execution_count": 63,
      "outputs": [
        {
          "output_type": "stream",
          "text": [
            "Order(\"d_quite_big.in\",\tscore=99.999972%(999999725/1000000000), [  17  189  190 ... 1997 1998 1999]\n"
          ],
          "name": "stdout"
        },
        {
          "output_type": "display_data",
          "data": {
            "image/png": "[encoded data removed]",
            "text/plain": [
              "<Figure size 432x288 with 1 Axes>"
            ]
          },
          "metadata": {
            "tags": []
          }
        },
        {
          "output_type": "stream",
          "text": [
            "Timer unit: 1e-06 s\n",
            "\n",
            "Total time: 7.90067 s\n",
            "File: <ipython-input-61-54cf0fa7aff2>\n",
            "Function: greedy2 at line 13\n",
            "\n",
            "Line #      Hits         Time  Per Hit   % Time  Line Contents\n",
            "==============================================================\n",
            "    13                                           def greedy2(infile):\n",
            "    14                                               \"\"\"same as greedy1 but accumulates slices instead of counting everytime\n",
            "    15                                               (much faster)\n",
            "    16                                               \"\"\"\n",
            "    17         1       2212.0   2212.0      0.0      order = Order(infile)\n",
            "    18                                               # i: index of pizza\n",
            "    19      2001       1624.0      0.8      0.0      for i, size in reversed(list(zip(np.argsort(order.type2size), order.type2size))):\n",
            "    20      2000       2043.0      1.0      0.0          if order.max_slices - order.type2size[i] > order.n_slices:\n",
            "    21      1812       1028.0      0.6      0.0              order.one_hot[i] = 1\n",
            "    22      1812       1550.0      0.9      0.0              order.n_slices += order.type2size[i]\n",
            "    23                                                       \n",
            "    24         1       4081.0   4081.0      0.1      print(order)\n",
            "    25         1    7888131.0 7888131.0     99.8      order.plot()\n",
            "    26         1          2.0      2.0      0.0      return order\n",
            "\n"
          ],
          "name": "stdout"
        }
      ]
    },
    {
      "cell_type": "code",
      "metadata": {
        "id": "M4S1TB-mdlRd",
        "colab_type": "code",
        "outputId": "2ac810b4-3fe6-40b2-a29c-7adf182cb821",
        "colab": {
          "base_uri": "https://localhost:8080/",
          "height": 663
        }
      },
      "source": [
        "r = %lprun -r -f greedy3 greedy3('d_quite_big.in')\n",
        "r.print_stats()"
      ],
      "execution_count": 64,
      "outputs": [
        {
          "output_type": "stream",
          "text": [
            "Order(\"d_quite_big.in\",\tscore=99.999972%(999999725/1000000000), [  17  189  190 ... 1997 1998 1999]\n"
          ],
          "name": "stdout"
        },
        {
          "output_type": "display_data",
          "data": {
            "image/png": "[encoded data removed]",
            "text/plain": [
              "<Figure size 432x288 with 1 Axes>"
            ]
          },
          "metadata": {
            "tags": []
          }
        },
        {
          "output_type": "stream",
          "text": [
            "Timer unit: 1e-06 s\n",
            "\n",
            "Total time: 8.16266 s\n",
            "File: <ipython-input-61-54cf0fa7aff2>\n",
            "Function: greedy3 at line 28\n",
            "\n",
            "Line #      Hits         Time  Per Hit   % Time  Line Contents\n",
            "==============================================================\n",
            "    28                                           def greedy3(infile):\n",
            "    29                                               \"\"\"same as greedy1 but accumulates slices instead of counting everytime\n",
            "    30                                               (much faster)\n",
            "    31                                               \"\"\"\n",
            "    32         1       1454.0   1454.0      0.0      order = Order(infile)\n",
            "    33                                               # i: index of pizza\n",
            "    34      2001     294156.0    147.0      3.6      for i, size in reversed(list(zip(np.argsort(order.type2size), order.type2size))):\n",
            "    35      2000       6591.0      3.3      0.1         order.try_add_pizza(i)\n",
            "    36                                               \n",
            "    37         1       3927.0   3927.0      0.0      print(order)\n",
            "    38         1    7856534.0 7856534.0     96.2      order.plot()\n",
            "    39         1          2.0      2.0      0.0      return order\n",
            "\n"
          ],
          "name": "stdout"
        }
      ]
    },
    {
      "cell_type": "code",
      "metadata": {
        "id": "EFCs9v23M9k1",
        "colab_type": "code",
        "outputId": "fa8fe7e8-5748-4d61-d971-d4b8b3f7dec2",
        "colab": {
          "base_uri": "https://localhost:8080/",
          "height": 1000
        }
      },
      "source": [
        "for input in inputs:\n",
        "    order = greedy3(input)\n",
        "    order.write_output()"
      ],
      "execution_count": 65,
      "outputs": [
        {
          "output_type": "stream",
          "text": [
            "Order(\"a_example.in\",\tscore=94.117647%(16/17), [0 2 3]\n"
          ],
          "name": "stdout"
        },
        {
          "output_type": "display_data",
          "data": {
            "image/png": "[encoded data removed]",
            "text/plain": [
              "<Figure size 432x288 with 1 Axes>"
            ]
          },
          "metadata": {
            "tags": []
          }
        },
        {
          "output_type": "stream",
          "text": [
            "Order(\"b_small.in\",\tscore=99.000000%(99/100), [0 9]\n"
          ],
          "name": "stdout"
        },
        {
          "output_type": "display_data",
          "data": {
            "image/png": "[encoded data removed]",
            "text/plain": [
              "<Figure size 432x288 with 1 Axes>"
            ]
          },
          "metadata": {
            "tags": []
          }
        },
        {
          "output_type": "stream",
          "text": [
            "Order(\"c_medium.in\",\tscore=99.888889%(4495/4500), [ 4 11 12 13 14 15 16 17 18 19 20 21 22 23 24 25 26 27 28 29 30 31 32 33\n",
            " 34 35 36 37 38 39 40 41 42 43 44 45 46 47 48 49]\n"
          ],
          "name": "stdout"
        },
        {
          "output_type": "display_data",
          "data": {
            "image/png": "[encoded data removed]",
            "text/plain": [
              "<Figure size 432x288 with 1 Axes>"
            ]
          },
          "metadata": {
            "tags": []
          }
        },
        {
          "output_type": "stream",
          "text": [
            "Order(\"d_quite_big.in\",\tscore=99.999972%(999999725/1000000000), [  17  189  190 ... 1997 1998 1999]\n"
          ],
          "name": "stdout"
        },
        {
          "output_type": "display_data",
          "data": {
            "image/png": "[encoded data removed]",
            "text/plain": [
              "<Figure size 432x288 with 1 Axes>"
            ]
          },
          "metadata": {
            "tags": []
          }
        },
        {
          "output_type": "stream",
          "text": [
            "Order(\"e_also_big.in\",\tscore=99.999997%(504999983/505000000), [ 266 5730 5731 ... 9997 9998 9999]\n"
          ],
          "name": "stdout"
        },
        {
          "output_type": "display_data",
          "data": {
            "image/png": "[encoded data removed]",
            "text/plain": [
              "<Figure size 432x288 with 1 Axes>"
            ]
          },
          "metadata": {
            "tags": []
          }
        }
      ]
    },
    {
      "cell_type": "code",
      "metadata": {
        "id": "VGsbwxI5gPnv",
        "colab_type": "code",
        "colab": {}
      },
      "source": [
        "# import numpy as np\n",
        "# from scipy.optimize import minimize\n",
        "\n",
        "\n",
        "# def rosen(x):\n",
        "#     \"\"\"The Rosenbrock function\"\"\"\n",
        "#     return sum(100.0*(x[1:]-x[:-1]**2.0)**2.0 + (1-x[:-1])**2.0)\n",
        "\n",
        "\n",
        "# x0 = np.array([1.3, 0.7, 0.8, 1.9, 1.2])\n",
        "# res = minimize(rosen, x0, method='nelder-mead',\n",
        "#                options={'xatol': 1e-8, 'disp': True})"
      ],
      "execution_count": 0,
      "outputs": []
    },
    {
      "cell_type": "code",
      "metadata": {
        "id": "SjXN3z0pgPn6",
        "colab_type": "code",
        "colab": {}
      },
      "source": [
        ""
      ],
      "execution_count": 0,
      "outputs": []
    }
  ]
}