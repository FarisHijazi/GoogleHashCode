{
 "cells": [
  {
   "cell_type": "code",
   "execution_count": 16,
   "metadata": {},
   "outputs": [
    {
     "data": {
      "text/html": [
       "\n",
       "        <iframe\n",
       "            width=\"600\"\n",
       "            height=\"300\"\n",
       "            src=\"./pizza.pdf\"\n",
       "            frameborder=\"0\"\n",
       "            allowfullscreen\n",
       "        ></iframe>\n",
       "        "
      ],
      "text/plain": [
       "<IPython.lib.display.IFrame at 0x1969df71348>"
      ]
     },
     "execution_count": 16,
     "metadata": {},
     "output_type": "execute_result"
    }
   ],
   "source": [
    "from IPython.display import IFrame\n",
    "IFrame(\"./pizza.pdf\", width=600, height=300)"
   ]
  },
  {
   "cell_type": "code",
   "execution_count": 17,
   "metadata": {},
   "outputs": [],
   "source": [
    "import numpy as np\n",
    "import matplotlib.pyplot as plt\n",
    "from matplotlib import interactive\n"
   ]
  },
  {
   "cell_type": "code",
   "execution_count": 18,
   "metadata": {},
   "outputs": [],
   "source": [
    "ingredients_map = {\n",
    "    'M': 0,\n",
    "    'T': 1,\n",
    "}\n",
    "\n",
    "def readFile(fname):\n",
    "    with open(fname) as f:\n",
    "        lines = f.readlines()\n",
    "        pizza = lines[1:]    # removing the first row (containing the numbers)\n",
    "        r, c, l, h = [int(x) for x in lines[0].split(' ')]\n",
    "        pizza = np.array([np.array(list(map(ingredients_map.get, row.strip()))) for row in pizza])\n",
    "        return r, c, l, h, pizza\n",
    "\n",
    "\n",
    "\n",
    "# import sys\n",
    "# if __name__ =='__main__':\n",
    "#     pizza_file = sys.argv[1]\n"
   ]
  },
  {
   "cell_type": "code",
   "execution_count": 19,
   "metadata": {},
   "outputs": [
    {
     "name": "stdout",
     "output_type": "stream",
     "text": [
      "(3, 5, 1, 6)\n",
      "[[1 1 1 1 1]\n",
      " [1 0 0 0 1]\n",
      " [1 1 1 1 1]]\n"
     ]
    }
   ],
   "source": [
    "pizza_files = {\n",
    "    \"a\": \"a_example.in\",\n",
    "    \"b\": \"b_small.in\",\n",
    "    \"c\": \"c_medium.in\",\n",
    "    \"d\": \"d_big.in\"\n",
    "}\n",
    "\n",
    "r, c, l, h, pizza = readFile(pizza_files['a'])\n",
    "\n",
    "print(str((r, c, l, h)) + \"\\n\" + str(pizza))\n"
   ]
  },
  {
   "cell_type": "code",
   "execution_count": 20,
   "metadata": {},
   "outputs": [
    {
     "data": {
      "image/png": "[encoded data removed]",
      "text/plain": [
       "<Figure size 432x288 with 1 Axes>"
      ]
     },
     "metadata": {
      "needs_background": "light"
     },
     "output_type": "display_data"
    }
   ],
   "source": [
    "fig, ax = plt.subplots()\n",
    "ax.imshow(pizza)\n",
    "ax.set_title(f'medium.in shape is {pizza.shape}, max. score {pizza.size}\\nmin. ingredients is {l}, max. pizza slice is {h}')\n",
    "plt.show()\n",
    "\n",
    "# input(\"enter anything...\")"
   ]
  },
  {
   "cell_type": "code",
   "execution_count": null,
   "metadata": {},
   "outputs": [],
   "source": [
    "\n",
    "# trying to solve\n",
    "def solve(pizza, constraints):\n",
    "    \n",
    "    pass\n"
   ]
  }
 ],
 "metadata": {
  "kernelspec": {
   "display_name": "Python 3",
   "language": "python",
   "name": "python3"
  },
  "language_info": {
   "codemirror_mode": {
    "name": "ipython",
    "version": 3
   },
   "file_extension": ".py",
   "mimetype": "text/x-python",
   "name": "python",
   "nbconvert_exporter": "python",
   "pygments_lexer": "ipython3",
   "version": "3.7.4"
  }
 },
 "nbformat": 4,
 "nbformat_minor": 2
}
